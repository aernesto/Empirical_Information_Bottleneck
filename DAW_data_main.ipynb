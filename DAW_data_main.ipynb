{
 "cells": [
  {
   "cell_type": "code",
   "execution_count": 2,
   "metadata": {},
   "outputs": [],
   "source": [
    "import scipy.io as sio\n",
    "import numpy as np"
   ]
  },
  {
   "cell_type": "code",
   "execution_count": 9,
   "metadata": {},
   "outputs": [
    {
     "ename": "FileNotFoundError",
     "evalue": "[Errno 2] No such file or directory: 'data/DAW_data_2_11_with_broad_rewards_100_sims.mat'",
     "output_type": "error",
     "traceback": [
      "\u001b[0;31m---------------------------------------------------------------------------\u001b[0m",
      "\u001b[0;31mFileNotFoundError\u001b[0m                         Traceback (most recent call last)",
      "\u001b[0;32m//anaconda/lib/python3.5/site-packages/scipy/io/matlab/mio.py\u001b[0m in \u001b[0;36m_open_file\u001b[0;34m(file_like, appendmat)\u001b[0m\n\u001b[1;32m     32\u001b[0m     \u001b[0;32mtry\u001b[0m\u001b[0;34m:\u001b[0m\u001b[0;34m\u001b[0m\u001b[0m\n\u001b[0;32m---> 33\u001b[0;31m         \u001b[0;32mreturn\u001b[0m \u001b[0mopen\u001b[0m\u001b[0;34m(\u001b[0m\u001b[0mfile_like\u001b[0m\u001b[0;34m,\u001b[0m \u001b[0;34m'rb'\u001b[0m\u001b[0;34m)\u001b[0m\u001b[0;34m,\u001b[0m \u001b[0;32mTrue\u001b[0m\u001b[0;34m\u001b[0m\u001b[0m\n\u001b[0m\u001b[1;32m     34\u001b[0m     \u001b[0;32mexcept\u001b[0m \u001b[0mIOError\u001b[0m\u001b[0;34m:\u001b[0m\u001b[0;34m\u001b[0m\u001b[0m\n",
      "\u001b[0;31mFileNotFoundError\u001b[0m: [Errno 2] No such file or directory: 'data/DAW_data_2_11_with_broad_rewards_100_sims.mat'",
      "\nDuring handling of the above exception, another exception occurred:\n",
      "\u001b[0;31mFileNotFoundError\u001b[0m                         Traceback (most recent call last)",
      "\u001b[0;32m<ipython-input-9-59e98a9fa9c7>\u001b[0m in \u001b[0;36m<module>\u001b[0;34m\u001b[0m\n\u001b[1;32m      1\u001b[0m \u001b[0;31m# filename = \"DAW_data_12_25_with_rewards.mat\"\u001b[0m\u001b[0;34m\u001b[0m\u001b[0;34m\u001b[0m\u001b[0m\n\u001b[1;32m      2\u001b[0m \u001b[0mfilename\u001b[0m \u001b[0;34m=\u001b[0m \u001b[0;34m\"data/DAW_data_2_11_with_broad_rewards_100_sims.mat\"\u001b[0m\u001b[0;34m\u001b[0m\u001b[0m\n\u001b[0;32m----> 3\u001b[0;31m \u001b[0mdata\u001b[0m \u001b[0;34m=\u001b[0m \u001b[0msio\u001b[0m\u001b[0;34m.\u001b[0m\u001b[0mloadmat\u001b[0m\u001b[0;34m(\u001b[0m\u001b[0mfilename\u001b[0m\u001b[0;34m)\u001b[0m\u001b[0;34m\u001b[0m\u001b[0m\n\u001b[0m\u001b[1;32m      4\u001b[0m \u001b[0mdata_array\u001b[0m \u001b[0;34m=\u001b[0m \u001b[0mdata\u001b[0m\u001b[0;34m[\u001b[0m\u001b[0;34m'data'\u001b[0m\u001b[0;34m]\u001b[0m\u001b[0;34m[\u001b[0m\u001b[0;36m0\u001b[0m\u001b[0;34m]\u001b[0m\u001b[0;34m[\u001b[0m\u001b[0;36m0\u001b[0m\u001b[0;34m]\u001b[0m\u001b[0;34m\u001b[0m\u001b[0m\n",
      "\u001b[0;32m//anaconda/lib/python3.5/site-packages/scipy/io/matlab/mio.py\u001b[0m in \u001b[0;36mloadmat\u001b[0;34m(file_name, mdict, appendmat, **kwargs)\u001b[0m\n\u001b[1;32m    139\u001b[0m     \"\"\"\n\u001b[1;32m    140\u001b[0m     \u001b[0mvariable_names\u001b[0m \u001b[0;34m=\u001b[0m \u001b[0mkwargs\u001b[0m\u001b[0;34m.\u001b[0m\u001b[0mpop\u001b[0m\u001b[0;34m(\u001b[0m\u001b[0;34m'variable_names'\u001b[0m\u001b[0;34m,\u001b[0m \u001b[0;32mNone\u001b[0m\u001b[0;34m)\u001b[0m\u001b[0;34m\u001b[0m\u001b[0m\n\u001b[0;32m--> 141\u001b[0;31m     \u001b[0mMR\u001b[0m\u001b[0;34m,\u001b[0m \u001b[0mfile_opened\u001b[0m \u001b[0;34m=\u001b[0m \u001b[0mmat_reader_factory\u001b[0m\u001b[0;34m(\u001b[0m\u001b[0mfile_name\u001b[0m\u001b[0;34m,\u001b[0m \u001b[0mappendmat\u001b[0m\u001b[0;34m,\u001b[0m \u001b[0;34m**\u001b[0m\u001b[0mkwargs\u001b[0m\u001b[0;34m)\u001b[0m\u001b[0;34m\u001b[0m\u001b[0m\n\u001b[0m\u001b[1;32m    142\u001b[0m     \u001b[0mmatfile_dict\u001b[0m \u001b[0;34m=\u001b[0m \u001b[0mMR\u001b[0m\u001b[0;34m.\u001b[0m\u001b[0mget_variables\u001b[0m\u001b[0;34m(\u001b[0m\u001b[0mvariable_names\u001b[0m\u001b[0;34m)\u001b[0m\u001b[0;34m\u001b[0m\u001b[0m\n\u001b[1;32m    143\u001b[0m     \u001b[0;32mif\u001b[0m \u001b[0mmdict\u001b[0m \u001b[0;32mis\u001b[0m \u001b[0;32mnot\u001b[0m \u001b[0;32mNone\u001b[0m\u001b[0;34m:\u001b[0m\u001b[0;34m\u001b[0m\u001b[0m\n",
      "\u001b[0;32m//anaconda/lib/python3.5/site-packages/scipy/io/matlab/mio.py\u001b[0m in \u001b[0;36mmat_reader_factory\u001b[0;34m(file_name, appendmat, **kwargs)\u001b[0m\n\u001b[1;32m     62\u001b[0m \u001b[0;34m\u001b[0m\u001b[0m\n\u001b[1;32m     63\u001b[0m     \"\"\"\n\u001b[0;32m---> 64\u001b[0;31m     \u001b[0mbyte_stream\u001b[0m\u001b[0;34m,\u001b[0m \u001b[0mfile_opened\u001b[0m \u001b[0;34m=\u001b[0m \u001b[0m_open_file\u001b[0m\u001b[0;34m(\u001b[0m\u001b[0mfile_name\u001b[0m\u001b[0;34m,\u001b[0m \u001b[0mappendmat\u001b[0m\u001b[0;34m)\u001b[0m\u001b[0;34m\u001b[0m\u001b[0m\n\u001b[0m\u001b[1;32m     65\u001b[0m     \u001b[0mmjv\u001b[0m\u001b[0;34m,\u001b[0m \u001b[0mmnv\u001b[0m \u001b[0;34m=\u001b[0m \u001b[0mget_matfile_version\u001b[0m\u001b[0;34m(\u001b[0m\u001b[0mbyte_stream\u001b[0m\u001b[0;34m)\u001b[0m\u001b[0;34m\u001b[0m\u001b[0m\n\u001b[1;32m     66\u001b[0m     \u001b[0;32mif\u001b[0m \u001b[0mmjv\u001b[0m \u001b[0;34m==\u001b[0m \u001b[0;36m0\u001b[0m\u001b[0;34m:\u001b[0m\u001b[0;34m\u001b[0m\u001b[0m\n",
      "\u001b[0;32m//anaconda/lib/python3.5/site-packages/scipy/io/matlab/mio.py\u001b[0m in \u001b[0;36m_open_file\u001b[0;34m(file_like, appendmat)\u001b[0m\n\u001b[1;32m     37\u001b[0m             \u001b[0;32mif\u001b[0m \u001b[0mappendmat\u001b[0m \u001b[0;32mand\u001b[0m \u001b[0;32mnot\u001b[0m \u001b[0mfile_like\u001b[0m\u001b[0;34m.\u001b[0m\u001b[0mendswith\u001b[0m\u001b[0;34m(\u001b[0m\u001b[0;34m'.mat'\u001b[0m\u001b[0;34m)\u001b[0m\u001b[0;34m:\u001b[0m\u001b[0;34m\u001b[0m\u001b[0m\n\u001b[1;32m     38\u001b[0m                 \u001b[0mfile_like\u001b[0m \u001b[0;34m+=\u001b[0m \u001b[0;34m'.mat'\u001b[0m\u001b[0;34m\u001b[0m\u001b[0m\n\u001b[0;32m---> 39\u001b[0;31m             \u001b[0;32mreturn\u001b[0m \u001b[0mopen\u001b[0m\u001b[0;34m(\u001b[0m\u001b[0mfile_like\u001b[0m\u001b[0;34m,\u001b[0m \u001b[0;34m'rb'\u001b[0m\u001b[0;34m)\u001b[0m\u001b[0;34m,\u001b[0m \u001b[0;32mTrue\u001b[0m\u001b[0;34m\u001b[0m\u001b[0m\n\u001b[0m\u001b[1;32m     40\u001b[0m         \u001b[0;32melse\u001b[0m\u001b[0;34m:\u001b[0m\u001b[0;34m\u001b[0m\u001b[0m\n\u001b[1;32m     41\u001b[0m             \u001b[0;32mraise\u001b[0m \u001b[0mIOError\u001b[0m\u001b[0;34m(\u001b[0m\u001b[0;34m'Reader needs file name or open file-like object'\u001b[0m\u001b[0;34m)\u001b[0m\u001b[0;34m\u001b[0m\u001b[0m\n",
      "\u001b[0;31mFileNotFoundError\u001b[0m: [Errno 2] No such file or directory: 'data/DAW_data_2_11_with_broad_rewards_100_sims.mat'"
     ]
    }
   ],
   "source": [
    "# filename = \"DAW_data_12_25_with_rewards.mat\"\n",
    "filename = \"data/DAW_data_2_11_with_broad_rewards_100_sims.mat\"\n",
    "data = sio.loadmat(filename)\n",
    "data_array = data['data'][0][0]"
   ]
  },
  {
   "cell_type": "code",
   "execution_count": 8,
   "metadata": {},
   "outputs": [
    {
     "ename": "NameError",
     "evalue": "name 'data_array' is not defined",
     "output_type": "error",
     "traceback": [
      "\u001b[0;31m---------------------------------------------------------------------------\u001b[0m",
      "\u001b[0;31mNameError\u001b[0m                                 Traceback (most recent call last)",
      "\u001b[0;32m<ipython-input-8-54f17e3a0baf>\u001b[0m in \u001b[0;36m<module>\u001b[0;34m\u001b[0m\n\u001b[0;32m----> 1\u001b[0;31m \u001b[0mtask\u001b[0m \u001b[0;34m=\u001b[0m \u001b[0mdata_array\u001b[0m\u001b[0;34m[\u001b[0m\u001b[0;34m'simulationfunction'\u001b[0m\u001b[0;34m]\u001b[0m\u001b[0;34m\u001b[0m\u001b[0m\n\u001b[0m\u001b[1;32m      2\u001b[0m \u001b[0mbounds\u001b[0m \u001b[0;34m=\u001b[0m \u001b[0mdata_array\u001b[0m\u001b[0;34m[\u001b[0m\u001b[0;34m'bounds'\u001b[0m\u001b[0;34m]\u001b[0m\u001b[0;34m\u001b[0m\u001b[0m\n\u001b[1;32m      3\u001b[0m \u001b[0msd\u001b[0m \u001b[0;34m=\u001b[0m \u001b[0mdata_array\u001b[0m\u001b[0;34m[\u001b[0m\u001b[0;34m'sd'\u001b[0m\u001b[0;34m]\u001b[0m\u001b[0;34m\u001b[0m\u001b[0m\n\u001b[1;32m      4\u001b[0m \u001b[0mn_choices\u001b[0m \u001b[0;34m=\u001b[0m \u001b[0mdata_array\u001b[0m\u001b[0;34m[\u001b[0m\u001b[0;34m'choices'\u001b[0m\u001b[0;34m]\u001b[0m\u001b[0;34m\u001b[0m\u001b[0m\n\u001b[1;32m      5\u001b[0m \u001b[0mreward_rate\u001b[0m \u001b[0;34m=\u001b[0m \u001b[0mdata_array\u001b[0m\u001b[0;34m[\u001b[0m\u001b[0;34m'rewardrate'\u001b[0m\u001b[0;34m]\u001b[0m\u001b[0;34m\u001b[0m\u001b[0m\n",
      "\u001b[0;31mNameError\u001b[0m: name 'data_array' is not defined"
     ]
    }
   ],
   "source": [
    "task = data_array['simulationfunction']\n",
    "bounds = data_array['bounds']\n",
    "sd = data_array['sd']\n",
    "n_choices = data_array['choices']\n",
    "reward_rate = data_array['rewardrate']\n",
    "alpha = data_array['alpha']\n",
    "beta = data_array['beta']\n",
    "lam = data_array['lambda']\n",
    "all_trials_data = data_array['simulationData']\n",
    "rewards = data_array['rewards']\n",
    "best_R1 = np.array([np.argmax(trial[0,:]) for trial in rewards])"
   ]
  },
  {
   "cell_type": "code",
   "execution_count": 5,
   "metadata": {},
   "outputs": [
    {
     "data": {
      "text/plain": [
       "(100, 11, 10000, 4)"
      ]
     },
     "execution_count": 5,
     "metadata": {},
     "output_type": "execute_result"
    }
   ],
   "source": [
    "np.shape(all_trials_data)"
   ]
  },
  {
   "cell_type": "code",
   "execution_count": 6,
   "metadata": {},
   "outputs": [],
   "source": [
    "# Data in all_trials data is:\n",
    "# nSimulation, w value, ntrials, [R1, R2 ,RW, S2]\n",
    "# we only care about one simulation for each w value\n",
    "# trials_data = all_trials_data[0,:,:,:]\n",
    "trials_data = all_trials_data\n",
    "# w value, ntrials, [R1, R2 ,RW, S2]\n",
    "w_vals = np.arange(0,1.1,.1)\n",
    "simulation_dict = {}\n",
    "\n",
    "\n",
    "for w_idx, w in enumerate(w_vals):\n",
    "    \n",
    "    simulation_dict[w] = {\n",
    "    \"R1\" : trials_data[:,w_idx,:,0],\n",
    "    \"S2\" : trials_data[:,w_idx,:,3],\n",
    "    \"R2\" : trials_data[:,w_idx,:,1],\n",
    "    \"Rw\" : trials_data[:,w_idx,:,2],\n",
    "    \"best_R1\" : best_R1\n",
    "    }\n",
    "    \n",
    "    \n",
    "# np.save('DAW_DATA_DICT_2_sims.npy', simulation_dict) \n",
    "\n",
    "np.save('DAW_DATA_100_sims_BROAD_REWARDS.npy', simulation_dict)"
   ]
  },
  {
   "cell_type": "code",
   "execution_count": 15,
   "metadata": {},
   "outputs": [
    {
     "data": {
      "text/plain": [
       "(10000,)"
      ]
     },
     "execution_count": 15,
     "metadata": {},
     "output_type": "execute_result"
    }
   ],
   "source": [
    "# Load\n",
    "read_dictionary = np.load('data/DAW_DATA_for_cluster.npy').item()\n",
    "np.shape(read_dictionary[0]['best_R1'])"
   ]
  },
  {
   "cell_type": "code",
   "execution_count": 17,
   "metadata": {},
   "outputs": [
    {
     "data": {
      "text/plain": [
       "array([0, 1])"
      ]
     },
     "execution_count": 17,
     "metadata": {},
     "output_type": "execute_result"
    }
   ],
   "source": [
    "np.unique(read_dictionary[0]['best_R1'])"
   ]
  },
  {
   "cell_type": "code",
   "execution_count": 10,
   "metadata": {},
   "outputs": [
    {
     "data": {
      "text/plain": [
       "{0.0: {'R1': array([2, 1, 2, ..., 2, 1, 1], dtype=uint8),\n",
       "  'R2': array([1, 2, 1, ..., 2, 2, 2], dtype=uint8),\n",
       "  'Rw': array([1, 1, 0, ..., 1, 1, 0], dtype=uint8),\n",
       "  'S2': array([1, 2, 1, ..., 1, 1, 1], dtype=uint8),\n",
       "  'best_R1': array([0, 0, 0, ..., 1, 1, 1])},\n",
       " 0.1: {'R1': array([1, 2, 1, ..., 1, 2, 2], dtype=uint8),\n",
       "  'R2': array([1, 2, 1, ..., 1, 1, 1], dtype=uint8),\n",
       "  'Rw': array([1, 0, 0, ..., 0, 0, 1], dtype=uint8),\n",
       "  'S2': array([1, 2, 1, ..., 2, 1, 1], dtype=uint8),\n",
       "  'best_R1': array([0, 0, 0, ..., 1, 1, 1])},\n",
       " 0.2: {'R1': array([1, 2, 2, ..., 1, 1, 2], dtype=uint8),\n",
       "  'R2': array([1, 1, 1, ..., 1, 1, 1], dtype=uint8),\n",
       "  'Rw': array([0, 0, 1, ..., 0, 1, 0], dtype=uint8),\n",
       "  'S2': array([2, 1, 2, ..., 2, 2, 2], dtype=uint8),\n",
       "  'best_R1': array([0, 0, 0, ..., 1, 1, 1])},\n",
       " 0.30000000000000004: {'R1': array([1, 1, 1, ..., 1, 1, 2], dtype=uint8),\n",
       "  'R2': array([1, 1, 1, ..., 1, 1, 1], dtype=uint8),\n",
       "  'Rw': array([1, 1, 0, ..., 1, 0, 0], dtype=uint8),\n",
       "  'S2': array([2, 2, 2, ..., 1, 2, 2], dtype=uint8),\n",
       "  'best_R1': array([0, 0, 0, ..., 1, 1, 1])},\n",
       " 0.4: {'R1': array([2, 1, 2, ..., 2, 1, 2], dtype=uint8),\n",
       "  'R2': array([2, 2, 1, ..., 1, 1, 1], dtype=uint8),\n",
       "  'Rw': array([0, 0, 1, ..., 0, 1, 0], dtype=uint8),\n",
       "  'S2': array([2, 2, 1, ..., 2, 1, 1], dtype=uint8),\n",
       "  'best_R1': array([0, 0, 0, ..., 1, 1, 1])},\n",
       " 0.5: {'R1': array([1, 2, 1, ..., 2, 2, 2], dtype=uint8),\n",
       "  'R2': array([1, 1, 2, ..., 1, 1, 2], dtype=uint8),\n",
       "  'Rw': array([1, 0, 0, ..., 0, 0, 0], dtype=uint8),\n",
       "  'S2': array([1, 1, 2, ..., 1, 1, 1], dtype=uint8),\n",
       "  'best_R1': array([0, 0, 0, ..., 1, 1, 1])},\n",
       " 0.6000000000000001: {'R1': array([2, 1, 2, ..., 2, 2, 2], dtype=uint8),\n",
       "  'R2': array([2, 1, 1, ..., 1, 1, 2], dtype=uint8),\n",
       "  'Rw': array([0, 1, 1, ..., 1, 0, 1], dtype=uint8),\n",
       "  'S2': array([1, 1, 1, ..., 1, 1, 1], dtype=uint8),\n",
       "  'best_R1': array([0, 0, 0, ..., 1, 1, 1])},\n",
       " 0.7000000000000001: {'R1': array([2, 2, 1, ..., 2, 1, 2], dtype=uint8),\n",
       "  'R2': array([2, 2, 1, ..., 1, 1, 1], dtype=uint8),\n",
       "  'Rw': array([0, 0, 0, ..., 0, 1, 1], dtype=uint8),\n",
       "  'S2': array([1, 1, 2, ..., 1, 1, 1], dtype=uint8),\n",
       "  'best_R1': array([0, 0, 0, ..., 1, 1, 1])},\n",
       " 0.8: {'R1': array([2, 1, 1, ..., 2, 2, 1], dtype=uint8),\n",
       "  'R2': array([2, 2, 1, ..., 2, 2, 1], dtype=uint8),\n",
       "  'Rw': array([0, 1, 0, ..., 0, 0, 0], dtype=uint8),\n",
       "  'S2': array([1, 2, 2, ..., 1, 1, 2], dtype=uint8),\n",
       "  'best_R1': array([0, 0, 0, ..., 1, 1, 1])},\n",
       " 0.9: {'R1': array([1, 1, 1, ..., 1, 1, 2], dtype=uint8),\n",
       "  'R2': array([2, 2, 2, ..., 2, 1, 2], dtype=uint8),\n",
       "  'Rw': array([1, 1, 1, ..., 1, 1, 1], dtype=uint8),\n",
       "  'S2': array([2, 2, 1, ..., 1, 2, 1], dtype=uint8),\n",
       "  'best_R1': array([0, 0, 0, ..., 1, 1, 1])},\n",
       " 1.0: {'R1': array([2, 2, 2, ..., 2, 1, 1], dtype=uint8),\n",
       "  'R2': array([2, 1, 2, ..., 1, 1, 1], dtype=uint8),\n",
       "  'Rw': array([0, 0, 0, ..., 0, 1, 0], dtype=uint8),\n",
       "  'S2': array([1, 1, 1, ..., 2, 2, 1], dtype=uint8),\n",
       "  'best_R1': array([0, 0, 0, ..., 1, 1, 1])}}"
      ]
     },
     "execution_count": 10,
     "metadata": {},
     "output_type": "execute_result"
    }
   ],
   "source": [
    "simulation_dict"
   ]
  },
  {
   "cell_type": "code",
   "execution_count": 91,
   "metadata": {},
   "outputs": [
    {
     "data": {
      "text/plain": [
       "array(['MBMF_stochastic_2choices_p_sim'], dtype='<U30')"
      ]
     },
     "execution_count": 91,
     "metadata": {},
     "output_type": "execute_result"
    }
   ],
   "source": [
    "task"
   ]
  },
  {
   "cell_type": "code",
   "execution_count": 93,
   "metadata": {},
   "outputs": [
    {
     "data": {
      "text/plain": [
       "array([[0.25, 0.75]])"
      ]
     },
     "execution_count": 93,
     "metadata": {},
     "output_type": "execute_result"
    }
   ],
   "source": [
    "\n",
    "bounds\n"
   ]
  },
  {
   "cell_type": "code",
   "execution_count": 92,
   "metadata": {},
   "outputs": [
    {
     "data": {
      "text/plain": [
       "array([[0.025]])"
      ]
     },
     "execution_count": 92,
     "metadata": {},
     "output_type": "execute_result"
    }
   ],
   "source": [
    "sd"
   ]
  },
  {
   "cell_type": "markdown",
   "metadata": {},
   "source": [
    "# Actual Subject Data"
   ]
  },
  {
   "cell_type": "code",
   "execution_count": 3,
   "metadata": {},
   "outputs": [],
   "source": [
    "data_filename = \"data/subject_data.mat\"\n",
    "fits_filename = \"data/subject_fits.mat\"\n",
    "interaction_filename = \"data/interaction.mat\"\n",
    "maineffect_filename = \"data/maineffect.mat\"\n",
    "subject_data = sio.loadmat(data_filename)\n",
    "subject_fits = sio.loadmat(fits_filename)\n",
    "subject_interaction = sio.loadmat(interaction_filename)\n",
    "subject_maineffect = sio.loadmat(maineffect_filename)"
   ]
  },
  {
   "cell_type": "code",
   "execution_count": 18,
   "metadata": {},
   "outputs": [
    {
     "data": {
      "text/plain": [
       "(197, 125, 3)"
      ]
     },
     "execution_count": 18,
     "metadata": {},
     "output_type": "execute_result"
    }
   ],
   "source": [
    "np.shape((subject_data['human_data']))"
   ]
  },
  {
   "cell_type": "code",
   "execution_count": 5,
   "metadata": {},
   "outputs": [
    {
     "data": {
      "text/plain": [
       "(197, 1)"
      ]
     },
     "execution_count": 5,
     "metadata": {},
     "output_type": "execute_result"
    }
   ],
   "source": [
    "np.shape((subject_interaction['subject_interaction']))"
   ]
  },
  {
   "cell_type": "code",
   "execution_count": 6,
   "metadata": {},
   "outputs": [],
   "source": [
    "human_dict = {\n",
    "    'trial_data': subject_data['human_data'],\n",
    "    'subject_fits': subject_fits['subject_w_fits'],\n",
    "    'interaction': subject_interaction['subject_interaction'],\n",
    "    'maineffect': subject_maineffect['subject_maineffect']\n",
    "}"
   ]
  },
  {
   "cell_type": "code",
   "execution_count": 7,
   "metadata": {},
   "outputs": [],
   "source": [
    "np.save('DAW_human_data.npy', human_dict)"
   ]
  },
  {
   "cell_type": "code",
   "execution_count": 23,
   "metadata": {},
   "outputs": [
    {
     "data": {
      "text/plain": [
       "(197, 1)"
      ]
     },
     "execution_count": 23,
     "metadata": {},
     "output_type": "execute_result"
    }
   ],
   "source": [
    "read_dictionary = np.load('DAW_human_data.npy').item()\n",
    "np.shape(read_dictionary['subject_fits'])"
   ]
  },
  {
   "cell_type": "code",
   "execution_count": null,
   "metadata": {},
   "outputs": [],
   "source": []
  }
 ],
 "metadata": {
  "anaconda-cloud": {},
  "kernelspec": {
   "display_name": "Python [anaconda]",
   "language": "python",
   "name": "Python [anaconda]"
  },
  "language_info": {
   "codemirror_mode": {
    "name": "ipython",
    "version": 3
   },
   "file_extension": ".py",
   "mimetype": "text/x-python",
   "name": "python",
   "nbconvert_exporter": "python",
   "pygments_lexer": "ipython3",
   "version": "3.5.6"
  }
 },
 "nbformat": 4,
 "nbformat_minor": 2
}
