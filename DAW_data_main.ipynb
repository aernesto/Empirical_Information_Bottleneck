{
 "cells": [
  {
   "cell_type": "code",
   "execution_count": 1,
   "metadata": {},
   "outputs": [],
   "source": [
    "import scipy.io as sio\n",
    "import numpy as np"
   ]
  },
  {
   "cell_type": "code",
   "execution_count": 2,
   "metadata": {},
   "outputs": [],
   "source": [
    "# filename = \"DAW_data_12_25_with_rewards.mat\"\n",
    "filename = \"data/DAW_data_2_11_with_broad_rewards_100_sims.mat\"\n",
    "data = sio.loadmat(filename)\n",
    "data_array = data['data'][0][0]"
   ]
  },
  {
   "cell_type": "code",
   "execution_count": 3,
   "metadata": {},
   "outputs": [],
   "source": [
    "task = data_array['simulationfunction']\n",
    "bounds = data_array['bounds']\n",
    "sd = data_array['sd']\n",
    "n_choices = data_array['choices']\n",
    "reward_rate = data_array['rewardrate']\n",
    "alpha = data_array['alpha']\n",
    "beta = data_array['beta']\n",
    "lam = data_array['lambda']\n",
    "all_trials_data = data_array['simulationData']\n",
    "rewards = data_array['rewards']\n",
    "best_R1 = np.array([np.argmax(trial[0,:]) for trial in rewards])"
   ]
  },
  {
   "cell_type": "code",
   "execution_count": 5,
   "metadata": {},
   "outputs": [
    {
     "data": {
      "text/plain": [
       "(100, 11, 10000, 4)"
      ]
     },
     "execution_count": 5,
     "metadata": {},
     "output_type": "execute_result"
    }
   ],
   "source": [
    "np.shape(all_trials_data)"
   ]
  },
  {
   "cell_type": "code",
   "execution_count": 6,
   "metadata": {},
   "outputs": [],
   "source": [
    "# Data in all_trials data is:\n",
    "# nSimulation, w value, ntrials, [R1, R2 ,RW, S2]\n",
    "# we only care about one simulation for each w value\n",
    "# trials_data = all_trials_data[0,:,:,:]\n",
    "trials_data = all_trials_data\n",
    "# w value, ntrials, [R1, R2 ,RW, S2]\n",
    "w_vals = np.arange(0,1.1,.1)\n",
    "simulation_dict = {}\n",
    "\n",
    "\n",
    "for w_idx, w in enumerate(w_vals):\n",
    "    \n",
    "    simulation_dict[w] = {\n",
    "    \"R1\" : trials_data[:,w_idx,:,0],\n",
    "    \"S2\" : trials_data[:,w_idx,:,3],\n",
    "    \"R2\" : trials_data[:,w_idx,:,1],\n",
    "    \"Rw\" : trials_data[:,w_idx,:,2],\n",
    "    \"best_R1\" : best_R1\n",
    "    }\n",
    "    \n",
    "    \n",
    "# np.save('DAW_DATA_DICT_2_sims.npy', simulation_dict) \n",
    "\n",
    "np.save('DAW_DATA_100_sims_BROAD_REWARDS.npy', simulation_dict)"
   ]
  },
  {
   "cell_type": "code",
   "execution_count": 7,
   "metadata": {},
   "outputs": [
    {
     "data": {
      "text/plain": [
       "(100, 10000)"
      ]
     },
     "execution_count": 7,
     "metadata": {},
     "output_type": "execute_result"
    }
   ],
   "source": [
    "# Load\n",
    "read_dictionary = np.load('DAW_DATA_100_sims_BROAD_REWARDS.npy').item()\n",
    "np.shape(read_dictionary[0]['R1'])"
   ]
  },
  {
   "cell_type": "code",
   "execution_count": 90,
   "metadata": {},
   "outputs": [
    {
     "data": {
      "text/plain": [
       "(2, 10000)"
      ]
     },
     "execution_count": 90,
     "metadata": {},
     "output_type": "execute_result"
    }
   ],
   "source": [
    "np.shape(read_dictionary[0]['R1'])"
   ]
  },
  {
   "cell_type": "code",
   "execution_count": 10,
   "metadata": {},
   "outputs": [
    {
     "data": {
      "text/plain": [
       "{0.0: {'R1': array([2, 1, 2, ..., 2, 1, 1], dtype=uint8),\n",
       "  'R2': array([1, 2, 1, ..., 2, 2, 2], dtype=uint8),\n",
       "  'Rw': array([1, 1, 0, ..., 1, 1, 0], dtype=uint8),\n",
       "  'S2': array([1, 2, 1, ..., 1, 1, 1], dtype=uint8),\n",
       "  'best_R1': array([0, 0, 0, ..., 1, 1, 1])},\n",
       " 0.1: {'R1': array([1, 2, 1, ..., 1, 2, 2], dtype=uint8),\n",
       "  'R2': array([1, 2, 1, ..., 1, 1, 1], dtype=uint8),\n",
       "  'Rw': array([1, 0, 0, ..., 0, 0, 1], dtype=uint8),\n",
       "  'S2': array([1, 2, 1, ..., 2, 1, 1], dtype=uint8),\n",
       "  'best_R1': array([0, 0, 0, ..., 1, 1, 1])},\n",
       " 0.2: {'R1': array([1, 2, 2, ..., 1, 1, 2], dtype=uint8),\n",
       "  'R2': array([1, 1, 1, ..., 1, 1, 1], dtype=uint8),\n",
       "  'Rw': array([0, 0, 1, ..., 0, 1, 0], dtype=uint8),\n",
       "  'S2': array([2, 1, 2, ..., 2, 2, 2], dtype=uint8),\n",
       "  'best_R1': array([0, 0, 0, ..., 1, 1, 1])},\n",
       " 0.30000000000000004: {'R1': array([1, 1, 1, ..., 1, 1, 2], dtype=uint8),\n",
       "  'R2': array([1, 1, 1, ..., 1, 1, 1], dtype=uint8),\n",
       "  'Rw': array([1, 1, 0, ..., 1, 0, 0], dtype=uint8),\n",
       "  'S2': array([2, 2, 2, ..., 1, 2, 2], dtype=uint8),\n",
       "  'best_R1': array([0, 0, 0, ..., 1, 1, 1])},\n",
       " 0.4: {'R1': array([2, 1, 2, ..., 2, 1, 2], dtype=uint8),\n",
       "  'R2': array([2, 2, 1, ..., 1, 1, 1], dtype=uint8),\n",
       "  'Rw': array([0, 0, 1, ..., 0, 1, 0], dtype=uint8),\n",
       "  'S2': array([2, 2, 1, ..., 2, 1, 1], dtype=uint8),\n",
       "  'best_R1': array([0, 0, 0, ..., 1, 1, 1])},\n",
       " 0.5: {'R1': array([1, 2, 1, ..., 2, 2, 2], dtype=uint8),\n",
       "  'R2': array([1, 1, 2, ..., 1, 1, 2], dtype=uint8),\n",
       "  'Rw': array([1, 0, 0, ..., 0, 0, 0], dtype=uint8),\n",
       "  'S2': array([1, 1, 2, ..., 1, 1, 1], dtype=uint8),\n",
       "  'best_R1': array([0, 0, 0, ..., 1, 1, 1])},\n",
       " 0.6000000000000001: {'R1': array([2, 1, 2, ..., 2, 2, 2], dtype=uint8),\n",
       "  'R2': array([2, 1, 1, ..., 1, 1, 2], dtype=uint8),\n",
       "  'Rw': array([0, 1, 1, ..., 1, 0, 1], dtype=uint8),\n",
       "  'S2': array([1, 1, 1, ..., 1, 1, 1], dtype=uint8),\n",
       "  'best_R1': array([0, 0, 0, ..., 1, 1, 1])},\n",
       " 0.7000000000000001: {'R1': array([2, 2, 1, ..., 2, 1, 2], dtype=uint8),\n",
       "  'R2': array([2, 2, 1, ..., 1, 1, 1], dtype=uint8),\n",
       "  'Rw': array([0, 0, 0, ..., 0, 1, 1], dtype=uint8),\n",
       "  'S2': array([1, 1, 2, ..., 1, 1, 1], dtype=uint8),\n",
       "  'best_R1': array([0, 0, 0, ..., 1, 1, 1])},\n",
       " 0.8: {'R1': array([2, 1, 1, ..., 2, 2, 1], dtype=uint8),\n",
       "  'R2': array([2, 2, 1, ..., 2, 2, 1], dtype=uint8),\n",
       "  'Rw': array([0, 1, 0, ..., 0, 0, 0], dtype=uint8),\n",
       "  'S2': array([1, 2, 2, ..., 1, 1, 2], dtype=uint8),\n",
       "  'best_R1': array([0, 0, 0, ..., 1, 1, 1])},\n",
       " 0.9: {'R1': array([1, 1, 1, ..., 1, 1, 2], dtype=uint8),\n",
       "  'R2': array([2, 2, 2, ..., 2, 1, 2], dtype=uint8),\n",
       "  'Rw': array([1, 1, 1, ..., 1, 1, 1], dtype=uint8),\n",
       "  'S2': array([2, 2, 1, ..., 1, 2, 1], dtype=uint8),\n",
       "  'best_R1': array([0, 0, 0, ..., 1, 1, 1])},\n",
       " 1.0: {'R1': array([2, 2, 2, ..., 2, 1, 1], dtype=uint8),\n",
       "  'R2': array([2, 1, 2, ..., 1, 1, 1], dtype=uint8),\n",
       "  'Rw': array([0, 0, 0, ..., 0, 1, 0], dtype=uint8),\n",
       "  'S2': array([1, 1, 1, ..., 2, 2, 1], dtype=uint8),\n",
       "  'best_R1': array([0, 0, 0, ..., 1, 1, 1])}}"
      ]
     },
     "execution_count": 10,
     "metadata": {},
     "output_type": "execute_result"
    }
   ],
   "source": [
    "simulation_dict"
   ]
  },
  {
   "cell_type": "code",
   "execution_count": 91,
   "metadata": {},
   "outputs": [
    {
     "data": {
      "text/plain": [
       "array(['MBMF_stochastic_2choices_p_sim'], dtype='<U30')"
      ]
     },
     "execution_count": 91,
     "metadata": {},
     "output_type": "execute_result"
    }
   ],
   "source": [
    "task"
   ]
  },
  {
   "cell_type": "code",
   "execution_count": 93,
   "metadata": {},
   "outputs": [
    {
     "data": {
      "text/plain": [
       "array([[0.25, 0.75]])"
      ]
     },
     "execution_count": 93,
     "metadata": {},
     "output_type": "execute_result"
    }
   ],
   "source": [
    "\n",
    "bounds\n"
   ]
  },
  {
   "cell_type": "code",
   "execution_count": 92,
   "metadata": {},
   "outputs": [
    {
     "data": {
      "text/plain": [
       "array([[0.025]])"
      ]
     },
     "execution_count": 92,
     "metadata": {},
     "output_type": "execute_result"
    }
   ],
   "source": [
    "sd"
   ]
  },
  {
   "cell_type": "code",
   "execution_count": null,
   "metadata": {},
   "outputs": [],
   "source": []
  }
 ],
 "metadata": {
  "anaconda-cloud": {},
  "kernelspec": {
   "display_name": "Python [anaconda]",
   "language": "python",
   "name": "Python [anaconda]"
  },
  "language_info": {
   "codemirror_mode": {
    "name": "ipython",
    "version": 3
   },
   "file_extension": ".py",
   "mimetype": "text/x-python",
   "name": "python",
   "nbconvert_exporter": "python",
   "pygments_lexer": "ipython3",
   "version": "3.5.6"
  }
 },
 "nbformat": 4,
 "nbformat_minor": 2
}
