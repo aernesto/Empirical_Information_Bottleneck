{
 "cells": [
  {
   "cell_type": "code",
   "execution_count": 2,
   "metadata": {},
   "outputs": [],
   "source": [
    "import scipy.io as sio\n",
    "import numpy as np"
   ]
  },
  {
   "cell_type": "code",
   "execution_count": 4,
   "metadata": {},
   "outputs": [],
   "source": [
    "# filename = \"DAW_data_12_25_with_rewards.mat\"\n",
    "filename = \"data/DAW_data_2_25_alpha_1.mat\"\n",
    "data = sio.loadmat(filename)\n",
    "data_array = data['data'][0][0]"
   ]
  },
  {
   "cell_type": "code",
   "execution_count": 5,
   "metadata": {},
   "outputs": [],
   "source": [
    "task = data_array['simulationfunction']\n",
    "bounds = data_array['bounds']\n",
    "sd = data_array['sd']\n",
    "n_choices = data_array['choices']\n",
    "reward_rate = data_array['rewardrate']\n",
    "alpha = data_array['alpha']\n",
    "beta = data_array['beta']\n",
    "lam = data_array['lambda']\n",
    "all_trials_data = data_array['simulationData']\n",
    "rewards = data_array['rewards']\n",
    "best_R1 = np.array([np.argmax(trial[0,:]) for trial in rewards])"
   ]
  },
  {
   "cell_type": "code",
   "execution_count": 6,
   "metadata": {},
   "outputs": [
    {
     "data": {
      "text/plain": [
       "(100, 11, 10000, 4)"
      ]
     },
     "execution_count": 6,
     "metadata": {},
     "output_type": "execute_result"
    }
   ],
   "source": [
    "np.shape(all_trials_data)"
   ]
  },
  {
   "cell_type": "code",
   "execution_count": 12,
   "metadata": {},
   "outputs": [],
   "source": [
    "# Data in all_trials data is:\n",
    "# nSimulation, w value, ntrials, [R1, R2 ,RW, S2]\n",
    "# we only care about one simulation for each w value\n",
    "# trials_data = all_trials_data[0,:,:,:]\n",
    "trials_data = all_trials_data\n",
    "# w value, ntrials, [R1, R2 ,RW, S2]\n",
    "w_vals = np.arange(0,1.1,.1)\n",
    "simulation_dict = {}\n",
    "\n",
    "\n",
    "for w_idx, w in enumerate(w_vals):\n",
    "    \n",
    "    simulation_dict[w] = {\n",
    "    \"R1\" : trials_data[:,w_idx,:,0],\n",
    "    \"S2\" : trials_data[:,w_idx,:,3],\n",
    "    \"R2\" : trials_data[:,w_idx,:,1],\n",
    "    \"Rw\" : trials_data[:,w_idx,:,2],\n",
    "    \"best_R1\" : best_R1\n",
    "    }\n",
    "    \n",
    "    \n",
    "# np.save('DAW_DATA_DICT_2_sims.npy', simulation_dict) \n",
    "\n",
    "np.save('data/DAW_DATA_100_sims_BROAD_REWARDS_alpha_1.npy', simulation_dict)"
   ]
  },
  {
   "cell_type": "code",
   "execution_count": 9,
   "metadata": {},
   "outputs": [
    {
     "data": {
      "text/plain": [
       "(10000,)"
      ]
     },
     "execution_count": 9,
     "metadata": {},
     "output_type": "execute_result"
    }
   ],
   "source": [
    "# Load\n",
    "read_dictionary = np.load('data/DAW_DATA_for_cluster.npy').item()\n",
    "np.shape(read_dictionary[0]['best_R1'])"
   ]
  },
  {
   "cell_type": "code",
   "execution_count": 17,
   "metadata": {},
   "outputs": [
    {
     "data": {
      "text/plain": [
       "array([0, 1])"
      ]
     },
     "execution_count": 17,
     "metadata": {},
     "output_type": "execute_result"
    }
   ],
   "source": [
    "np.unique(read_dictionary[0]['best_R1'])"
   ]
  },
  {
   "cell_type": "code",
   "execution_count": 11,
   "metadata": {},
   "outputs": [
    {
     "data": {
      "text/plain": [
       "array([[1]], dtype=uint8)"
      ]
     },
     "execution_count": 11,
     "metadata": {},
     "output_type": "execute_result"
    }
   ],
   "source": [
    "alpha"
   ]
  },
  {
   "cell_type": "code",
   "execution_count": 91,
   "metadata": {},
   "outputs": [
    {
     "data": {
      "text/plain": [
       "array(['MBMF_stochastic_2choices_p_sim'], dtype='<U30')"
      ]
     },
     "execution_count": 91,
     "metadata": {},
     "output_type": "execute_result"
    }
   ],
   "source": [
    "task"
   ]
  },
  {
   "cell_type": "code",
   "execution_count": 93,
   "metadata": {},
   "outputs": [
    {
     "data": {
      "text/plain": [
       "array([[0.25, 0.75]])"
      ]
     },
     "execution_count": 93,
     "metadata": {},
     "output_type": "execute_result"
    }
   ],
   "source": [
    "\n",
    "bounds\n"
   ]
  },
  {
   "cell_type": "code",
   "execution_count": 92,
   "metadata": {},
   "outputs": [
    {
     "data": {
      "text/plain": [
       "array([[0.025]])"
      ]
     },
     "execution_count": 92,
     "metadata": {},
     "output_type": "execute_result"
    }
   ],
   "source": [
    "sd"
   ]
  },
  {
   "cell_type": "markdown",
   "metadata": {},
   "source": [
    "# Actual Subject Data"
   ]
  },
  {
   "cell_type": "code",
   "execution_count": 16,
   "metadata": {},
   "outputs": [],
   "source": [
    "data_filename = \"data/subject_data.mat\"\n",
    "fits_filename = \"data/subject_fits.mat\"\n",
    "interaction_filename = \"data/interaction.mat\"\n",
    "maineffect_filename = \"data/maineffect.mat\"\n",
    "common_filename = \"data/common.mat\"\n",
    "\n",
    "subject_data = sio.loadmat(data_filename)\n",
    "subject_fits = sio.loadmat(fits_filename)\n",
    "subject_interaction = sio.loadmat(interaction_filename)\n",
    "subject_maineffect = sio.loadmat(maineffect_filename)\n",
    "subject_common = sio.loadmat(common_filename)"
   ]
  },
  {
   "cell_type": "code",
   "execution_count": 17,
   "metadata": {},
   "outputs": [
    {
     "data": {
      "text/plain": [
       "(197, 125)"
      ]
     },
     "execution_count": 17,
     "metadata": {},
     "output_type": "execute_result"
    }
   ],
   "source": [
    "np.shape(subject_common['common_S2'])"
   ]
  },
  {
   "cell_type": "code",
   "execution_count": null,
   "metadata": {},
   "outputs": [],
   "source": []
  },
  {
   "cell_type": "code",
   "execution_count": null,
   "metadata": {},
   "outputs": [],
   "source": []
  },
  {
   "cell_type": "code",
   "execution_count": 18,
   "metadata": {},
   "outputs": [
    {
     "data": {
      "text/plain": [
       "(197, 125, 3)"
      ]
     },
     "execution_count": 18,
     "metadata": {},
     "output_type": "execute_result"
    }
   ],
   "source": [
    "np.shape((subject_data['human_data']))"
   ]
  },
  {
   "cell_type": "code",
   "execution_count": 26,
   "metadata": {},
   "outputs": [],
   "source": [
    "trial_data = np.zeros((197,125,4))\n",
    "trial_data[:,:,:3] = subject_data['human_data']\n",
    "trial_data[:,:,3] = subject_common['common_S2']"
   ]
  },
  {
   "cell_type": "code",
   "execution_count": null,
   "metadata": {},
   "outputs": [],
   "source": [
    "np.shape(trial_data)"
   ]
  },
  {
   "cell_type": "code",
   "execution_count": 5,
   "metadata": {},
   "outputs": [
    {
     "data": {
      "text/plain": [
       "(197, 1)"
      ]
     },
     "execution_count": 5,
     "metadata": {},
     "output_type": "execute_result"
    }
   ],
   "source": [
    "np.shape((subject_interaction['subject_interaction']))"
   ]
  },
  {
   "cell_type": "code",
   "execution_count": 28,
   "metadata": {},
   "outputs": [],
   "source": [
    "human_dict = {\n",
    "    'trial_data': trial_data,\n",
    "    'subject_fits': subject_fits['subject_w_fits'],\n",
    "    'interaction': subject_interaction['subject_interaction'],\n",
    "    'maineffect': subject_maineffect['subject_maineffect']\n",
    "}"
   ]
  },
  {
   "cell_type": "code",
   "execution_count": 29,
   "metadata": {},
   "outputs": [],
   "source": [
    "np.save('DAW_human_data.npy', human_dict)"
   ]
  },
  {
   "cell_type": "code",
   "execution_count": 23,
   "metadata": {},
   "outputs": [
    {
     "data": {
      "text/plain": [
       "(197, 1)"
      ]
     },
     "execution_count": 23,
     "metadata": {},
     "output_type": "execute_result"
    }
   ],
   "source": [
    "read_dictionary = np.load('DAW_human_data.npy').item()\n",
    "np.shape(read_dictionary['subject_fits'])"
   ]
  },
  {
   "cell_type": "code",
   "execution_count": 14,
   "metadata": {},
   "outputs": [
    {
     "data": {
      "text/plain": [
       "array(['MBMF_stochastic_2choices_p_sim'], dtype='<U30')"
      ]
     },
     "execution_count": 14,
     "metadata": {},
     "output_type": "execute_result"
    }
   ],
   "source": [
    "task"
   ]
  },
  {
   "cell_type": "code",
   "execution_count": null,
   "metadata": {},
   "outputs": [],
   "source": []
  }
 ],
 "metadata": {
  "anaconda-cloud": {},
  "kernelspec": {
   "display_name": "Python [anaconda]",
   "language": "python",
   "name": "Python [anaconda]"
  },
  "language_info": {
   "codemirror_mode": {
    "name": "ipython",
    "version": 3
   },
   "file_extension": ".py",
   "mimetype": "text/x-python",
   "name": "python",
   "nbconvert_exporter": "python",
   "pygments_lexer": "ipython3",
   "version": "3.5.6"
  }
 },
 "nbformat": 4,
 "nbformat_minor": 2
}
